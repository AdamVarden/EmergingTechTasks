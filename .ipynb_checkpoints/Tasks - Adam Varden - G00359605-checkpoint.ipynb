{
 "cells": [
  {
   "cell_type": "markdown",
   "metadata": {},
   "source": [
    "# Tasks - Emerging Technologies\n",
    "## By Adam Varden - G00359605"
   ]
  },
  {
   "cell_type": "markdown",
   "metadata": {},
   "source": [
    "*****"
   ]
  },
  {
   "cell_type": "markdown",
   "metadata": {},
   "source": [
    "# Task 1 - October 5th, 2020"
   ]
  },
  {
   "cell_type": "markdown",
   "metadata": {},
   "source": [
    "This is my solution for task 1."
   ]
  },
  {
   "cell_type": "markdown",
   "metadata": {},
   "source": [
    "We can calculate the square root of 2 without having to use an imports e.g. Math using the Exponent function which is one of the basic operators given by python.[1]\n",
    "\n",
    "$10^{1/2}$\n",
    "\n",
    "The Exponent function is used to get the power of a number.[2]\n",
    "The square root of a number is the same as a number to the power of a half.[3]"
   ]
  },
  {
   "cell_type": "markdown",
   "metadata": {},
   "source": [
    "## References\n",
    "[1] Tutorialspoint:How to perform square root without using math module in Python;\n",
    " https://www.tutorialspoint.com/How-to-perform-square-root-without-using-math-module-in-Python\n",
    " \n",
    "[2] Tutorialspoint: Python Operators; https://www.tutorialspoint.com/python/python_basic_operators.htm\n",
    "\n",
    "[3] Simple Math: Why does \"x to the half power\" mean square root?; https://www.youtube.com/watch?v=PFHCPxAM2vE&ab_channel=SimpleMath\n",
    "\n",
    "[4]Mathforum:Why Is an Exponent of 1/2 the Same as a Square Root?\n",
    " ;http://mathforum.org/library/drmath/view/65402.html"
   ]
  },
  {
   "cell_type": "code",
   "execution_count": 1,
   "metadata": {},
   "outputs": [],
   "source": [
    "def sqrt2(x):\n",
    "    \"\"\"\n",
    "        Uses Exponent (power) function to the number to the power of a half\n",
    "    \"\"\"\n",
    "    print(x**(1/2))"
   ]
  },
  {
   "cell_type": "markdown",
   "metadata": {},
   "source": [
    "### Tests\n",
    "Tests to verify the answer for the above code."
   ]
  },
  {
   "cell_type": "code",
   "execution_count": 2,
   "metadata": {},
   "outputs": [
    {
     "name": "stdout",
     "output_type": "stream",
     "text": [
      "1.4142135623730951\n"
     ]
    }
   ],
   "source": [
    "sqrt2(2)"
   ]
  },
  {
   "cell_type": "code",
   "execution_count": 3,
   "metadata": {},
   "outputs": [
    {
     "data": {
      "text/plain": [
       "1.4142135623730951"
      ]
     },
     "execution_count": 3,
     "metadata": {},
     "output_type": "execute_result"
    }
   ],
   "source": [
    "import math\n",
    "math.sqrt(2)"
   ]
  },
  {
   "cell_type": "markdown",
   "metadata": {},
   "source": [
    "****"
   ]
  },
  {
   "cell_type": "markdown",
   "metadata": {},
   "source": [
    "# Task 2 - November 2nd, 2020"
   ]
  },
  {
   "cell_type": "markdown",
   "metadata": {},
   "source": [
    "This is the solution for Task 2 \n",
    "\n",
    "The Chi squared test is commonly used for testing the relationships between variables that are categorical. The null hypothesis of the test shows that there is no relationship between the variables they are independent. It is commonly used for the test of idependence.\n",
    "\n",
    "The wikipedia page gives me the answer of 24.6 when the test is ran and the code below verifies that it is correct.[2]\n",
    "The degree of freedom can be used when it is greater than the critical value the null hypothesis can be rejected.[3]\n"
   ]
  },
  {
   "cell_type": "markdown",
   "metadata": {},
   "source": [
    "## References\n",
    "\n",
    "[1] jupyter-teaching-notebooks where some code was taken from - https://github.com/ianmcloughlin/jupyter-teaching-notebooks/blob/master/ttest.ipynb\n",
    "\n",
    "[2]The table is taken from Wikipedia - https://en.wikipedia.org/w/index.php?title=Chi-squared_test&oldid=983024096\n",
    "\n",
    "[3] Degree of Freedom - https://www.statisticssolutions.com/non-parametric-analysis-chi-square/#:~:text=The%20degrees%20of%20freedom%20for,null%20hypothesis%20can%20be%20rejected."
   ]
  },
  {
   "cell_type": "code",
   "execution_count": 4,
   "metadata": {},
   "outputs": [],
   "source": [
    "# Efficient numerical arrays.\n",
    "import numpy as np\n",
    "# Data frames.\n",
    "import pandas as pd\n",
    "# Mains statistics package.\n",
    "import scipy.stats as stat"
   ]
  },
  {
   "cell_type": "code",
   "execution_count": 5,
   "metadata": {},
   "outputs": [],
   "source": [
    "# The table of values\n",
    "table = [ 90, 60, 104, 95], [ 30, 50, 51, 20], [ 30, 40, 45, 35]"
   ]
  },
  {
   "cell_type": "code",
   "execution_count": 6,
   "metadata": {},
   "outputs": [
    {
     "data": {
      "text/html": [
       "<div>\n",
       "<style scoped>\n",
       "    .dataframe tbody tr th:only-of-type {\n",
       "        vertical-align: middle;\n",
       "    }\n",
       "\n",
       "    .dataframe tbody tr th {\n",
       "        vertical-align: top;\n",
       "    }\n",
       "\n",
       "    .dataframe thead th {\n",
       "        text-align: right;\n",
       "    }\n",
       "</style>\n",
       "<table border=\"1\" class=\"dataframe\">\n",
       "  <thead>\n",
       "    <tr style=\"text-align: right;\">\n",
       "      <th></th>\n",
       "      <th>A</th>\n",
       "      <th>B</th>\n",
       "      <th>C</th>\n",
       "      <th>D</th>\n",
       "    </tr>\n",
       "  </thead>\n",
       "  <tbody>\n",
       "    <tr>\n",
       "      <th>White collar</th>\n",
       "      <td>90</td>\n",
       "      <td>60</td>\n",
       "      <td>104</td>\n",
       "      <td>95</td>\n",
       "    </tr>\n",
       "    <tr>\n",
       "      <th>Blue collar</th>\n",
       "      <td>30</td>\n",
       "      <td>50</td>\n",
       "      <td>51</td>\n",
       "      <td>20</td>\n",
       "    </tr>\n",
       "    <tr>\n",
       "      <th>No collar</th>\n",
       "      <td>30</td>\n",
       "      <td>40</td>\n",
       "      <td>45</td>\n",
       "      <td>35</td>\n",
       "    </tr>\n",
       "  </tbody>\n",
       "</table>\n",
       "</div>"
      ],
      "text/plain": [
       "               A   B    C   D\n",
       "White collar  90  60  104  95\n",
       "Blue collar   30  50   51  20\n",
       "No collar     30  40   45  35"
      ]
     },
     "execution_count": 6,
     "metadata": {},
     "output_type": "execute_result"
    }
   ],
   "source": [
    "# The Table Outputted\n",
    "df = pd.DataFrame(table,index =['White collar', 'Blue collar', 'No collar'] ,columns =['A', 'B','C','D'])\n",
    "df"
   ]
  },
  {
   "cell_type": "code",
   "execution_count": 7,
   "metadata": {},
   "outputs": [
    {
     "name": "stdout",
     "output_type": "stream",
     "text": [
      "chisquared\n",
      "24.5712028585826\n",
      "probability\n",
      "0.0004098425861096696\n",
      "The Degree of Freedom\n",
      "6\n"
     ]
    }
   ],
   "source": [
    "observed = np.array(table)\n",
    "chisquared, probability, df, ex = stat.chi2_contingency(observed)\n",
    "\n",
    "# The Chi square of the table\n",
    "print(\"chisquared\")\n",
    "print(chisquared)\n",
    "# The probability\n",
    "print(\"probability\")\n",
    "print(probability)\n",
    "print(\"The Degree of Freedom\")\n",
    "print(df)"
   ]
  },
  {
   "cell_type": "markdown",
   "metadata": {},
   "source": [
    "****"
   ]
  },
  {
   "cell_type": "markdown",
   "metadata": {},
   "source": [
    "# Task 3 - November 16th, 2020"
   ]
  },
  {
   "cell_type": "markdown",
   "metadata": {},
   "source": [
    "Excel uses the functions STDDEV.P and STDDEV.S. \n",
    "The first one STDDEV.P would calculate a population dataset.e.g. All people living in Ireland\n",
    "The second one STDDEV.S would calculate sample data or a subset of a population.e.g. All people who identify as female living in Ireland.[1]\n",
    "\n",
    "The Qualitative diffrences between Sample and Population are that the population is a paramter, a fixed value from everything within a population. The Sample is a statisic, the Sample Standard Deviation depends upon the sample of that population so it has higher variablilty.[2]\n",
    "\n",
    "By defauly numpy.std returns the population standard deviation because doof is equal to zero but with doof equal to 1 it allows for N - 1 (N being the number of variables in a list) we minus it by 1 to compensate that is it a sample.[3]\n",
    "\n"
   ]
  },
  {
   "cell_type": "markdown",
   "metadata": {},
   "source": [
    "## References\n",
    "\n",
    "[1]Understanding the difference between Sample and Population -http://mathbitsnotebook.com/Algebra1/StatisticsData/STPopSample.html#\n",
    "\n",
    "[2] Understanding which is more valuable - https://www.thoughtco.com/population-vs-sample-standard-deviations-3126372#:~:text=The%20population%20standard%20deviation%20is,the%20individuals%20in%20a%20population.\n",
    "\n",
    "[3] Using Numpy to get the Sample Deviationn - https://numpy.org/doc/stable/reference/generated/numpy.std.html#:~:text=Means%20Delta%20Degrees%20of%20Freedom,By%20default%20ddof%20is%20zero.&text=If%20this%20is%20set%20to,as%20dimensions%20with%20size%20one."
   ]
  },
  {
   "cell_type": "code",
   "execution_count": 8,
   "metadata": {},
   "outputs": [
    {
     "name": "stdout",
     "output_type": "stream",
     "text": [
      "This uses the Sample Standard Deviation on the Sample Dataset\n",
      "1.0\n",
      "This uses the Population Standard Deviation on The Population Dataset\n",
      "2.8722813232690143\n",
      "This uses the Population Standard Deviation on the sample\n",
      "1.4142135623730951\n"
     ]
    }
   ],
   "source": [
    "import numpy as np\n",
    "sample =[1,2,3,4,5]\n",
    "population = [1,2,3,4,5,6,7,8,9,10]\n",
    "\n",
    "# Using the numpy Standard Deviation this is for a Sample of the Population\n",
    "print(\"This uses the Sample Standard Deviation on the Sample Dataset\")\n",
    "print(np.sqrt(np.sum((sample - np.mean(sample))**2)/len(sample)-1))\n",
    "\n",
    "# Using the numpy Population Standard Deviation this is for a Population\n",
    "print(\"This uses the Population Standard Deviation on The Population Dataset\")\n",
    "print(np.sqrt(np.sum((population - np.mean(population))**2)/len(population)))\n",
    "\n",
    "# Using the numpy Population Standard Deviation this is for a Sample\n",
    "print(\"This uses the Population Standard Deviation on the sample\")\n",
    "print(np.sqrt(np.sum((sample - np.mean(sample))**2)/len(sample)))\n"
   ]
  },
  {
   "cell_type": "markdown",
   "metadata": {},
   "source": [
    "# Task 4 - November 30th, 2020"
   ]
  },
  {
   "cell_type": "markdown",
   "metadata": {},
   "source": [
    "The iris dataset is most known for being used as an example of linear discriminant analysis which is finding a linear combination of characteristics that seperate classes in this he uses sepal petal lengths to achieve this.[1]\n",
    "\n",
    "K-means is a learning method that allows us to group a set of objects and find a meanful strucutre among the data by grouping them together you discover patterns between them.\n",
    "K-means is simple and effecient allowing to visualize results easily. The downside of k-means is it requires more human interaction then metrics.[3]\n",
    "\n",
    "Why do we use K-means?\n",
    "\n",
    "We can use k-means to discover data groups that have not been labeled within a dataset. We could use it to confirm assumptions about the existing types in a dataset and possible to assign new data to its appropraite group[4]\n"
   ]
  },
  {
   "cell_type": "markdown",
   "metadata": {},
   "source": [
    "[1] Learning about the dataset - https://en.wikipedia.org/wiki/Iris_flower_data_set\n",
    "\n",
    "[2] Ian's Repo for Kmeans - https://github.com/ianmcloughlin/jupyter-teaching-notebooks/blob/master/kmeans-examples.ipynb\n",
    "\n",
    "[3] Learning about k-means and using the iris data set - https://medium.com/@belen.sanchez27/predicting-iris-flower-species-with-k-means-clustering-in-python-f6e46806aaee\n",
    "\n",
    "[4] Why use k-means - https://blogs.oracle.com/datascience/introduction-to-k-means-clustering#:~:text=The%20K%2Dmeans%20clustering%20algorithm%20is%20used%20to%20find%20groups,groups%20in%20complex%20data%20sets."
   ]
  },
  {
   "cell_type": "markdown",
   "metadata": {},
   "source": [
    "Here I import the features needed in order to plot and retrieve the dataset"
   ]
  },
  {
   "cell_type": "code",
   "execution_count": 9,
   "metadata": {},
   "outputs": [],
   "source": [
    "from sklearn.datasets import load_iris\n",
    "import numpy as np\n",
    "import pandas as pd\n",
    "# Plotting.\n",
    "import matplotlib.pyplot as plt\n",
    "# Machine learning - KMeans.\n",
    "import sklearn.cluster as skcl\n",
    "from sklearn.cluster import KMeans\n",
    "\n",
    "# import the iris dataset from sklearn\n",
    "iris = load_iris()\n",
    "X = iris.data[:, :4]\n",
    "y = iris.target"
   ]
  },
  {
   "cell_type": "markdown",
   "metadata": {},
   "source": [
    "Here we use the kmeans using 4 clusters and fit it to the X variable with our iris dataset"
   ]
  },
  {
   "cell_type": "code",
   "execution_count": 10,
   "metadata": {},
   "outputs": [],
   "source": [
    "# Perform kmeans fitting.\n",
    "mykmeans = skcl.KMeans(n_clusters=4, random_state=0).fit(X)"
   ]
  },
  {
   "cell_type": "markdown",
   "metadata": {},
   "source": [
    "We now plot our dataset with the kmeans and then get the centres of the clusters"
   ]
  },
  {
   "cell_type": "code",
   "execution_count": 11,
   "metadata": {},
   "outputs": [
    {
     "data": {
      "text/plain": [
       "[<matplotlib.lines.Line2D at 0x18a1b10dc10>]"
      ]
     },
     "execution_count": 11,
     "metadata": {},
     "output_type": "execute_result"
    },
    {
     "data": {
      "image/png": "[encoded data removed]",
      "text/plain": [
       "<Figure size 432x288 with 1 Axes>"
      ]
     },
     "metadata": {
      "needs_background": "light"
     },
     "output_type": "display_data"
    }
   ],
   "source": [
    "# Plot the data set.\n",
    "plt.plot(X[mykmeans.labels_ == 0][:,0], X[mykmeans.labels_ == 0][:,1], 'gx')\n",
    "plt.plot(X[mykmeans.labels_ == 1][:,0], X[mykmeans.labels_ == 1][:,1], 'rx')\n",
    "plt.plot(X[mykmeans.labels_ == 2][:,0], X[mykmeans.labels_ == 2][:,1], 'bx')\n",
    "plt.plot(X[mykmeans.labels_ == 3][:,0], X[mykmeans.labels_ == 3][:,1], 'yx')\n",
    "\n",
    "# plotting centres\n",
    "mycent = mykmeans.cluster_centers_\n",
    "mycent\n",
    "plt.plot(mycent[:,0], mycent[:,1], 'k.')\n"
   ]
  },
  {
   "cell_type": "markdown",
   "metadata": {},
   "source": [
    "Above we see our plot with our 4 clusters we could use k-means to predit new types of sepel species using this model."
   ]
  }
 ],
 "metadata": {
  "kernelspec": {
   "display_name": "Python 3",
   "language": "python",
   "name": "python3"
  },
  "language_info": {
   "codemirror_mode": {
    "name": "ipython",
    "version": 3
   },
   "file_extension": ".py",
   "mimetype": "text/x-python",
   "name": "python",
   "nbconvert_exporter": "python",
   "pygments_lexer": "ipython3",
   "version": "3.8.3"
  }
 },
 "nbformat": 4,
 "nbformat_minor": 4
}
