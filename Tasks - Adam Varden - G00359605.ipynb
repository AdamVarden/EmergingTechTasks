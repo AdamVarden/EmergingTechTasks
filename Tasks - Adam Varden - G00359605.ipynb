{
 "cells": [
  {
   "cell_type": "markdown",
   "metadata": {},
   "source": [
    "# Task 1 - Calculate the Square Root of 2"
   ]
  },
  {
   "cell_type": "markdown",
   "metadata": {},
   "source": [
    "This is my solution for task 1 for Emerging Technologies. Author Adam Varden (g00359605@gmit.ie)"
   ]
  },
  {
   "cell_type": "markdown",
   "metadata": {},
   "source": [
    "We can calculate the square root of 2 without having to use an imports e.g. Math using the Exponent function which is one of the basic operators given by python.[1]\n",
    "\n",
    "$10^{1/2}$\n",
    "\n",
    "The Exponent function is used to get the power of a number.[2]\n",
    "The square root of a number is the same as a number to the power of a half.[3]\n",
    "\n",
    "[1] Tutorialspoint:How to perform square root without using math module in Python;\n",
    " https://www.tutorialspoint.com/How-to-perform-square-root-without-using-math-module-in-Python\n",
    " \n",
    "[2] Tutorialspoint: Python Operators; https://www.tutorialspoint.com/python/python_basic_operators.htm\n",
    "\n",
    "[3] Simple Math: Why does \"x to the half power\" mean square root?; https://www.youtube.com/watch?v=PFHCPxAM2vE&ab_channel=SimpleMath\n",
    "\n",
    "[4]Mathforum:Why Is an Exponent of 1/2 the Same as a Square Root?\n",
    " ;http://mathforum.org/library/drmath/view/65402.html"
   ]
  },
  {
   "cell_type": "code",
   "execution_count": 14,
   "metadata": {},
   "outputs": [],
   "source": [
    "def sqrt2(x):\n",
    "    \"\"\"\n",
    "        Uses Exponent (power) function to the number to the power of a half\n",
    "    \"\"\"\n",
    "    x**(1/2)"
   ]
  },
  {
   "cell_type": "markdown",
   "metadata": {},
   "source": [
    "### Tests\n",
    "Tests to verify the answer for the above code."
   ]
  },
  {
   "cell_type": "code",
   "execution_count": 16,
   "metadata": {},
   "outputs": [
    {
     "data": {
      "text/plain": [
       "1.4142135623730951"
      ]
     },
     "execution_count": 16,
     "metadata": {},
     "output_type": "execute_result"
    }
   ],
   "source": [
    "sqrt(2)"
   ]
  },
  {
   "cell_type": "code",
   "execution_count": 8,
   "metadata": {},
   "outputs": [
    {
     "data": {
      "text/plain": [
       "1.4142135623730951"
      ]
     },
     "execution_count": 8,
     "metadata": {},
     "output_type": "execute_result"
    }
   ],
   "source": [
    "import math\n",
    "math.sqrt(2)"
   ]
  },
  {
   "cell_type": "markdown",
   "metadata": {},
   "source": [
    "# Task 2 "
   ]
  },
  {
   "cell_type": "markdown",
   "metadata": {},
   "source": [
    "This is the solution for Task 2 \n",
    "\n",
    "The Chi squared test is commonly used for testing the relationships between variables that are categorical. The null hypothesis of the test shows that there is no relationship between the variables they are independent. It is commonly used for the test of idependence.\n",
    "The wikipedia page gives me the answer of 24.6 when the test is ran and the code below verifies that it is correct.\n",
    "\n",
    "[1] jupyter-teaching-notebooks where some code was taken from - https://github.com/ianmcloughlin/jupyter-teaching-notebooks/blob/master/ttest.ipynb\n",
    "[2]The table is taken from Wikipedia - https://en.wikipedia.org/w/index.php?title=Chi-squared_test&oldid=983024096"
   ]
  },
  {
   "cell_type": "code",
   "execution_count": 6,
   "metadata": {},
   "outputs": [],
   "source": [
    "# Efficient numerical arrays.\n",
    "import numpy as np\n",
    "# Data frames.\n",
    "import pandas as pd\n",
    "# Mains statistics package.\n",
    "import scipy.stats as stat"
   ]
  },
  {
   "cell_type": "code",
   "execution_count": 2,
   "metadata": {},
   "outputs": [],
   "source": [
    "# The table of values\n",
    "table = [ 90, 60, 104, 95], [ 30, 50, 51, 20], [ 30, 40, 45, 35]"
   ]
  },
  {
   "cell_type": "code",
   "execution_count": 3,
   "metadata": {},
   "outputs": [
    {
     "data": {
      "text/html": [
       "<div>\n",
       "<style scoped>\n",
       "    .dataframe tbody tr th:only-of-type {\n",
       "        vertical-align: middle;\n",
       "    }\n",
       "\n",
       "    .dataframe tbody tr th {\n",
       "        vertical-align: top;\n",
       "    }\n",
       "\n",
       "    .dataframe thead th {\n",
       "        text-align: right;\n",
       "    }\n",
       "</style>\n",
       "<table border=\"1\" class=\"dataframe\">\n",
       "  <thead>\n",
       "    <tr style=\"text-align: right;\">\n",
       "      <th></th>\n",
       "      <th>A</th>\n",
       "      <th>B</th>\n",
       "      <th>C</th>\n",
       "      <th>D</th>\n",
       "    </tr>\n",
       "  </thead>\n",
       "  <tbody>\n",
       "    <tr>\n",
       "      <th>White collar</th>\n",
       "      <td>90</td>\n",
       "      <td>60</td>\n",
       "      <td>104</td>\n",
       "      <td>95</td>\n",
       "    </tr>\n",
       "    <tr>\n",
       "      <th>Blue collar</th>\n",
       "      <td>30</td>\n",
       "      <td>50</td>\n",
       "      <td>51</td>\n",
       "      <td>20</td>\n",
       "    </tr>\n",
       "    <tr>\n",
       "      <th>No collar</th>\n",
       "      <td>30</td>\n",
       "      <td>40</td>\n",
       "      <td>45</td>\n",
       "      <td>35</td>\n",
       "    </tr>\n",
       "  </tbody>\n",
       "</table>\n",
       "</div>"
      ],
      "text/plain": [
       "               A   B    C   D\n",
       "White collar  90  60  104  95\n",
       "Blue collar   30  50   51  20\n",
       "No collar     30  40   45  35"
      ]
     },
     "execution_count": 3,
     "metadata": {},
     "output_type": "execute_result"
    }
   ],
   "source": [
    "# The Table Outputted\n",
    "df = pd.DataFrame(table,index =['White collar', 'Blue collar', 'No collar'] ,columns =['A', 'B','C','D'])\n",
    "df"
   ]
  },
  {
   "cell_type": "code",
   "execution_count": 10,
   "metadata": {},
   "outputs": [
    {
     "name": "stdout",
     "output_type": "stream",
     "text": [
      "24.5712028585826\n",
      "0.0004098425861096696\n",
      "6\n"
     ]
    }
   ],
   "source": [
    "observed = np.array(table)\n",
    "chisquared, probability, df, ex = stat.chi2_contingency(observed)\n",
    "\n",
    "# The Chi square of the table\n",
    "print(chisquared)\n",
    "# The probability\n",
    "print(probability)\n",
    "print(df)"
   ]
  },
  {
   "cell_type": "markdown",
   "metadata": {},
   "source": [
    "# Task 3"
   ]
  },
  {
   "cell_type": "markdown",
   "metadata": {},
   "source": [
    "Excel uses the functions STDDEV.P and STDDEV.S. \n",
    "The first one STDDEV.P would calculate a population dataset.e.g. All people living in Ireland\n",
    "The second one STDDEV.S would calculate sample data or a subset of a population.e.g. All people who identify as female living in Ireland.[1]\n",
    "\n",
    "By defauly numpy.std returns the population standard deviation because doof is equal to zero but with doof equal to 1 it allows for N - 1 (N being the number of variables in a list)[2]"
   ]
  },
  {
   "cell_type": "markdown",
   "metadata": {},
   "source": [
    "[1]Understanding the difference between Sample and Population -http://mathbitsnotebook.com/Algebra1/StatisticsData/STPopSample.html#\n",
    "[2] Using Numpy to get the Sample Deviation - https://numpy.org/doc/stable/reference/generated/numpy.std.html#:~:text=Means%20Delta%20Degrees%20of%20Freedom,By%20default%20ddof%20is%20zero.&text=If%20this%20is%20set%20to,as%20dimensions%20with%20size%20one."
   ]
  },
  {
   "cell_type": "code",
   "execution_count": 1,
   "metadata": {},
   "outputs": [
    {
     "data": {
      "text/plain": [
       "1.2909944487358056"
      ]
     },
     "execution_count": 1,
     "metadata": {},
     "output_type": "execute_result"
    }
   ],
   "source": [
    "import numpy as np\n",
    "x=[1,2,3,4]\n",
    "np.std(x, ddof=1)"
   ]
  },
  {
   "cell_type": "markdown",
   "metadata": {},
   "source": [
    "# Task 3"
   ]
  },
  {
   "cell_type": "markdown",
   "metadata": {},
   "source": [
    "[1] Dataset was taken from here - https://en.wikipedia.org/wiki/Iris_flower_data_set\n",
    "[2] Adding the data to the dataframe - https://stackoverflow.com/questions/38105539/how-to-convert-a-scikit-learn-dataset-to-a-pandas-dataset\n",
    "[3] https://github.com/ianmcloughlin/jupyter-teaching-notebooks/blob/master/kmeans-examples.ipynb\n",
    "[4] https://scikit-learn.org/stable/auto_examples/datasets/plot_iris_dataset.html"
   ]
  },
  {
   "cell_type": "code",
   "execution_count": 20,
   "metadata": {},
   "outputs": [
    {
     "data": {
      "text/plain": [
       "[<matplotlib.lines.Line2D at 0x22cab6a5610>]"
      ]
     },
     "execution_count": 20,
     "metadata": {},
     "output_type": "execute_result"
    },
    {
     "data": {
      "image/png": "[encoded data removed]",
      "text/plain": [
       "<Figure size 432x288 with 1 Axes>"
      ]
     },
     "metadata": {
      "needs_background": "light"
     },
     "output_type": "display_data"
    }
   ],
   "source": [
    "from sklearn.datasets import load_iris\n",
    "import numpy as np\n",
    "import pandas as pd\n",
    "# Plotting.\n",
    "import matplotlib.pyplot as plt\n",
    "# Machine learning - KMeans.\n",
    "import sklearn.cluster as skcl\n",
    "\n",
    "# import some data to play with\n",
    "iris = load_iris()\n",
    "x = iris.data[:, :2]  # we only take the first two features.\n",
    "y = iris.target\n",
    "\n",
    "# Plot the data set.\n",
    "plt.plot(x[:,0], x[:,1], 'x')"
   ]
  },
  {
   "cell_type": "code",
   "execution_count": 21,
   "metadata": {},
   "outputs": [
    {
     "data": {
      "text/plain": [
       "[<matplotlib.lines.Line2D at 0x22cabb2e880>]"
      ]
     },
     "execution_count": 21,
     "metadata": {},
     "output_type": "execute_result"
    },
    {
     "data": {
      "image/png": "[encoded data removed]",
      "text/plain": [
       "<Figure size 432x288 with 1 Axes>"
      ]
     },
     "metadata": {
      "needs_background": "light"
     },
     "output_type": "display_data"
    }
   ],
   "source": [
    "# Perform kmeans fitting.\n",
    "mykmeans = skcl.KMeans(n_clusters=2, random_state=0).fit(x)\n",
    "# Plot the data set.\n",
    "plt.plot(x[mykmeans.labels_ == 0][:,0], x[mykmeans.labels_ == 0][:,1], 'gx')\n",
    "plt.plot(x[mykmeans.labels_ == 1][:,0], x[mykmeans.labels_ == 1][:,1], 'rx')"
   ]
  }
 ],
 "metadata": {
  "kernelspec": {
   "display_name": "Python 3",
   "language": "python",
   "name": "python3"
  },
  "language_info": {
   "codemirror_mode": {
    "name": "ipython",
    "version": 3
   },
   "file_extension": ".py",
   "mimetype": "text/x-python",
   "name": "python",
   "nbconvert_exporter": "python",
   "pygments_lexer": "ipython3",
   "version": "3.8.3"
  }
 },
 "nbformat": 4,
 "nbformat_minor": 4
}
