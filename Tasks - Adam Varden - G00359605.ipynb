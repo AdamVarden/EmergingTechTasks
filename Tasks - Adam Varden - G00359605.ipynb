{
 "cells": [
  {
   "cell_type": "markdown",
   "metadata": {},
   "source": [
    "# Task 1 - Calculate the Square Root of 2"
   ]
  },
  {
   "cell_type": "markdown",
   "metadata": {},
   "source": [
    "This is my solution for task 1 for Emerging Technologies. Author Adam Varden (g00359605@gmit.ie)"
   ]
  },
  {
   "cell_type": "markdown",
   "metadata": {},
   "source": [
    "We can calculate the square root of 2 without having to use an imports e.g. Math using the Exponent function which is one of the basic operators given by python.[1]\n",
    "\n",
    "$10^{1/2}$\n",
    "\n",
    "The Exponent function is used to get the power of a number.[2]\n",
    "The square root of a number is the same as a number to the power of a half because when you take the number\n",
    "\n",
    "[1] Tutorialspoint:How to perform square root without using math module in Python;\n",
    " https://www.tutorialspoint.com/How-to-perform-square-root-without-using-math-module-in-Python\n",
    " \n",
    "[2] Tutorialspoint: Python Operators; https://www.tutorialspoint.com/python/python_basic_operators.htm\n",
    "\n",
    "[3] Simple Math: Why does \"x to the half power\" mean square root?; https://www.youtube.com/watch?v=PFHCPxAM2vE&ab_channel=SimpleMath\n",
    "\n",
    "[4]Mathforum:Why Is an Exponent of 1/2 the Same as a Square Root?\n",
    " ;http://mathforum.org/library/drmath/view/65402.html"
   ]
  },
  {
   "cell_type": "code",
   "execution_count": 14,
   "metadata": {},
   "outputs": [],
   "source": [
    "def sqrt2(x):\n",
    "    \"\"\"\n",
    "        Uses Exponent (power) function to the number to the power of a half\n",
    "    \"\"\"\n",
    "    x**(1/2)"
   ]
  },
  {
   "cell_type": "markdown",
   "metadata": {},
   "source": [
    "### Tests\n",
    "Tests to verify the answer for the above code."
   ]
  },
  {
   "cell_type": "code",
   "execution_count": 16,
   "metadata": {},
   "outputs": [
    {
     "data": {
      "text/plain": [
       "1.4142135623730951"
      ]
     },
     "execution_count": 16,
     "metadata": {},
     "output_type": "execute_result"
    }
   ],
   "source": [
    "sqrt(2)"
   ]
  },
  {
   "cell_type": "code",
   "execution_count": 8,
   "metadata": {},
   "outputs": [
    {
     "data": {
      "text/plain": [
       "1.4142135623730951"
      ]
     },
     "execution_count": 8,
     "metadata": {},
     "output_type": "execute_result"
    }
   ],
   "source": [
    "import math\n",
    "math.sqrt(2)"
   ]
  }
 ],
 "metadata": {
  "kernelspec": {
   "display_name": "Python 3",
   "language": "python",
   "name": "python3"
  },
  "language_info": {
   "codemirror_mode": {
    "name": "ipython",
    "version": 3
   },
   "file_extension": ".py",
   "mimetype": "text/x-python",
   "name": "python",
   "nbconvert_exporter": "python",
   "pygments_lexer": "ipython3",
   "version": "3.8.3"
  }
 },
 "nbformat": 4,
 "nbformat_minor": 4
}
